{
    "metadata": {
        "kernelspec": {
            "name": "python3",
            "display_name": "Python 3",
            "language": "python"
        },
        "language_info": {
            "name": "python",
            "version": "3.6.6",
            "mimetype": "text/x-python",
            "codemirror_mode": {
                "name": "ipython",
                "version": 3
            },
            "pygments_lexer": "ipython3",
            "nbconvert_exporter": "python",
            "file_extension": ".py"
        }
    },
    "nbformat_minor": 2,
    "nbformat": 4,
    "cells": [
        {
            "cell_type": "code",
            "source": [
                "import pandas as pd\r\n",
                "import pyodbc\r\n",
                "import pyarrow as pa\r\n",
                "import pyarrow.parquet as pq\r\n",
                "from datetime import date, datetime"
            ],
            "metadata": {
                "azdata_cell_guid": "764626e4-7c33-478e-8919-664f728a5fe6",
                "tags": []
            },
            "outputs": [],
            "execution_count": 1
        },
        {
            "cell_type": "code",
            "source": [
                "ref_data = date.today()\r\n",
                "ref_timestamp = datetime.now()"
            ],
            "metadata": {
                "azdata_cell_guid": "e9c3c2ae-e3a6-4d1d-96b9-d218ae9d23e3"
            },
            "outputs": [],
            "execution_count": 2
        },
        {
            "cell_type": "code",
            "source": [
                "server = 'localhost'\r\n",
                "database = 'db_datasus'\r\n",
                "username = 'dev'\r\n",
                "password = 'SenhaDev1234'\r\n",
                "\r\n",
                "conn = pyodbc.connect('DRIVER={ODBC Driver 17 for SQL Server};SERVER='+server+';DATABASE='+database+';UID='+username+';PWD='+password)\r\n",
                "\r\n",
                "cursor = conn.cursor()\r\n",
                "\r\n",
                "sql_query = pd.read_sql_query(\"\"\"SELECT [date] \r\n",
                "                                     ,[state] \r\n",
                "                                     ,SUM([confirmed]) AS [confirmed] \r\n",
                "                                     ,SUM([deaths]) AS [deaths] \r\n",
                "                                     ,[estimated_population_2019] \r\n",
                "                                     ,[estimated_population] \r\n",
                "                                     ,[city_ibge_code] \r\n",
                "                                     ,[confirmed_per_100k_inhabitants] \r\n",
                "                                     ,[death_rate] \r\n",
                "                                FROM [db_datasus].[dbo].[COVID] \r\n",
                "                                WHERE city_ibge_code < 100 AND CONVERT(DATE, [date]) = CONVERT(DATE,GETDATE()-1) \r\n",
                "                                GROUP BY  \r\n",
                "                                      [date] \r\n",
                "                                      ,[state] \r\n",
                "                                      ,[estimated_population_2019] \r\n",
                "                                      ,[estimated_population] \r\n",
                "                                      ,[city_ibge_code] \r\n",
                "                                      ,[confirmed_per_100k_inhabitants] \r\n",
                "                                      ,[death_rate] \r\n",
                "                                ORDER BY [date], [state] ASC\"\"\", conn)\r\n",
                "\r\n",
                "sql_query"
            ],
            "metadata": {
                "azdata_cell_guid": "ce68e139-9dbd-454c-aa10-52c42a1431e4"
            },
            "outputs": [
                {
                    "output_type": "execute_result",
                    "execution_count": 3,
                    "data": {
                        "text/plain": "            date state  confirmed  deaths  estimated_population_2019  \\\n0     2020-02-25    SP          1       0                   45919049   \n1     2020-02-26    SP          1       0                   45919049   \n2     2020-02-27    SP          1       0                   45919049   \n3     2020-02-28    SP          2       0                   45919049   \n4     2020-02-29    SP          2       0                   45919049   \n...          ...   ...        ...     ...                        ...   \n10815 2021-04-21    RO     207030    4939                    1777225   \n10816 2021-04-21    RS     934970   23690                   11377239   \n10817 2021-04-21    SC     863842   12842                    7164788   \n10818 2021-04-21    SE     193271    4034                    2298696   \n10819 2021-04-21    SP    2786483   90627                   45919049   \n\n       estimated_population  city_ibge_code  confirmed_per_100k_inhabitants  \\\n0                  46289333              35                             0.0   \n1                  46289333              35                             0.0   \n2                  46289333              35                             0.0   \n3                  46289333              35                             0.0   \n4                  46289333              35                             0.0   \n...                     ...             ...                             ...   \n10815               1796460              11                         11524.0   \n10816              11422973              43                          8185.0   \n10817               7252502              42                         11911.0   \n10818               2318822              28                          8335.0   \n10819              46289333              35                          6020.0   \n\n       death_rate  \n0               0  \n1               0  \n2               0  \n3               0  \n4               0  \n...           ...  \n10815           0  \n10816           0  \n10817           0  \n10818           0  \n10819           0  \n\n[10820 rows x 9 columns]",
                        "text/html": "<div>\n<style scoped>\n    .dataframe tbody tr th:only-of-type {\n        vertical-align: middle;\n    }\n\n    .dataframe tbody tr th {\n        vertical-align: top;\n    }\n\n    .dataframe thead th {\n        text-align: right;\n    }\n</style>\n<table border=\"1\" class=\"dataframe\">\n  <thead>\n    <tr style=\"text-align: right;\">\n      <th></th>\n      <th>date</th>\n      <th>state</th>\n      <th>confirmed</th>\n      <th>deaths</th>\n      <th>estimated_population_2019</th>\n      <th>estimated_population</th>\n      <th>city_ibge_code</th>\n      <th>confirmed_per_100k_inhabitants</th>\n      <th>death_rate</th>\n    </tr>\n  </thead>\n  <tbody>\n    <tr>\n      <th>0</th>\n      <td>2020-02-25</td>\n      <td>SP</td>\n      <td>1</td>\n      <td>0</td>\n      <td>45919049</td>\n      <td>46289333</td>\n      <td>35</td>\n      <td>0.0</td>\n      <td>0</td>\n    </tr>\n    <tr>\n      <th>1</th>\n      <td>2020-02-26</td>\n      <td>SP</td>\n      <td>1</td>\n      <td>0</td>\n      <td>45919049</td>\n      <td>46289333</td>\n      <td>35</td>\n      <td>0.0</td>\n      <td>0</td>\n    </tr>\n    <tr>\n      <th>2</th>\n      <td>2020-02-27</td>\n      <td>SP</td>\n      <td>1</td>\n      <td>0</td>\n      <td>45919049</td>\n      <td>46289333</td>\n      <td>35</td>\n      <td>0.0</td>\n      <td>0</td>\n    </tr>\n    <tr>\n      <th>3</th>\n      <td>2020-02-28</td>\n      <td>SP</td>\n      <td>2</td>\n      <td>0</td>\n      <td>45919049</td>\n      <td>46289333</td>\n      <td>35</td>\n      <td>0.0</td>\n      <td>0</td>\n    </tr>\n    <tr>\n      <th>4</th>\n      <td>2020-02-29</td>\n      <td>SP</td>\n      <td>2</td>\n      <td>0</td>\n      <td>45919049</td>\n      <td>46289333</td>\n      <td>35</td>\n      <td>0.0</td>\n      <td>0</td>\n    </tr>\n    <tr>\n      <th>...</th>\n      <td>...</td>\n      <td>...</td>\n      <td>...</td>\n      <td>...</td>\n      <td>...</td>\n      <td>...</td>\n      <td>...</td>\n      <td>...</td>\n      <td>...</td>\n    </tr>\n    <tr>\n      <th>10815</th>\n      <td>2021-04-21</td>\n      <td>RO</td>\n      <td>207030</td>\n      <td>4939</td>\n      <td>1777225</td>\n      <td>1796460</td>\n      <td>11</td>\n      <td>11524.0</td>\n      <td>0</td>\n    </tr>\n    <tr>\n      <th>10816</th>\n      <td>2021-04-21</td>\n      <td>RS</td>\n      <td>934970</td>\n      <td>23690</td>\n      <td>11377239</td>\n      <td>11422973</td>\n      <td>43</td>\n      <td>8185.0</td>\n      <td>0</td>\n    </tr>\n    <tr>\n      <th>10817</th>\n      <td>2021-04-21</td>\n      <td>SC</td>\n      <td>863842</td>\n      <td>12842</td>\n      <td>7164788</td>\n      <td>7252502</td>\n      <td>42</td>\n      <td>11911.0</td>\n      <td>0</td>\n    </tr>\n    <tr>\n      <th>10818</th>\n      <td>2021-04-21</td>\n      <td>SE</td>\n      <td>193271</td>\n      <td>4034</td>\n      <td>2298696</td>\n      <td>2318822</td>\n      <td>28</td>\n      <td>8335.0</td>\n      <td>0</td>\n    </tr>\n    <tr>\n      <th>10819</th>\n      <td>2021-04-21</td>\n      <td>SP</td>\n      <td>2786483</td>\n      <td>90627</td>\n      <td>45919049</td>\n      <td>46289333</td>\n      <td>35</td>\n      <td>6020.0</td>\n      <td>0</td>\n    </tr>\n  </tbody>\n</table>\n<p>10820 rows × 9 columns</p>\n</div>"
                    },
                    "metadata": {}
                }
            ],
            "execution_count": 3
        },
        {
            "cell_type": "code",
            "source": [
                "df = pd.DataFrame(sql_query)\r\n",
                "df"
            ],
            "metadata": {
                "azdata_cell_guid": "a0e010fc-ff48-4bca-a060-322eb1c7324f"
            },
            "outputs": [
                {
                    "output_type": "execute_result",
                    "execution_count": 4,
                    "data": {
                        "text/plain": "            date state  confirmed  deaths  estimated_population_2019  \\\n0     2020-02-25    SP          1       0                   45919049   \n1     2020-02-26    SP          1       0                   45919049   \n2     2020-02-27    SP          1       0                   45919049   \n3     2020-02-28    SP          2       0                   45919049   \n4     2020-02-29    SP          2       0                   45919049   \n...          ...   ...        ...     ...                        ...   \n10815 2021-04-21    RO     207030    4939                    1777225   \n10816 2021-04-21    RS     934970   23690                   11377239   \n10817 2021-04-21    SC     863842   12842                    7164788   \n10818 2021-04-21    SE     193271    4034                    2298696   \n10819 2021-04-21    SP    2786483   90627                   45919049   \n\n       estimated_population  city_ibge_code  confirmed_per_100k_inhabitants  \\\n0                  46289333              35                             0.0   \n1                  46289333              35                             0.0   \n2                  46289333              35                             0.0   \n3                  46289333              35                             0.0   \n4                  46289333              35                             0.0   \n...                     ...             ...                             ...   \n10815               1796460              11                         11524.0   \n10816              11422973              43                          8185.0   \n10817               7252502              42                         11911.0   \n10818               2318822              28                          8335.0   \n10819              46289333              35                          6020.0   \n\n       death_rate  \n0               0  \n1               0  \n2               0  \n3               0  \n4               0  \n...           ...  \n10815           0  \n10816           0  \n10817           0  \n10818           0  \n10819           0  \n\n[10820 rows x 9 columns]",
                        "text/html": "<div>\n<style scoped>\n    .dataframe tbody tr th:only-of-type {\n        vertical-align: middle;\n    }\n\n    .dataframe tbody tr th {\n        vertical-align: top;\n    }\n\n    .dataframe thead th {\n        text-align: right;\n    }\n</style>\n<table border=\"1\" class=\"dataframe\">\n  <thead>\n    <tr style=\"text-align: right;\">\n      <th></th>\n      <th>date</th>\n      <th>state</th>\n      <th>confirmed</th>\n      <th>deaths</th>\n      <th>estimated_population_2019</th>\n      <th>estimated_population</th>\n      <th>city_ibge_code</th>\n      <th>confirmed_per_100k_inhabitants</th>\n      <th>death_rate</th>\n    </tr>\n  </thead>\n  <tbody>\n    <tr>\n      <th>0</th>\n      <td>2020-02-25</td>\n      <td>SP</td>\n      <td>1</td>\n      <td>0</td>\n      <td>45919049</td>\n      <td>46289333</td>\n      <td>35</td>\n      <td>0.0</td>\n      <td>0</td>\n    </tr>\n    <tr>\n      <th>1</th>\n      <td>2020-02-26</td>\n      <td>SP</td>\n      <td>1</td>\n      <td>0</td>\n      <td>45919049</td>\n      <td>46289333</td>\n      <td>35</td>\n      <td>0.0</td>\n      <td>0</td>\n    </tr>\n    <tr>\n      <th>2</th>\n      <td>2020-02-27</td>\n      <td>SP</td>\n      <td>1</td>\n      <td>0</td>\n      <td>45919049</td>\n      <td>46289333</td>\n      <td>35</td>\n      <td>0.0</td>\n      <td>0</td>\n    </tr>\n    <tr>\n      <th>3</th>\n      <td>2020-02-28</td>\n      <td>SP</td>\n      <td>2</td>\n      <td>0</td>\n      <td>45919049</td>\n      <td>46289333</td>\n      <td>35</td>\n      <td>0.0</td>\n      <td>0</td>\n    </tr>\n    <tr>\n      <th>4</th>\n      <td>2020-02-29</td>\n      <td>SP</td>\n      <td>2</td>\n      <td>0</td>\n      <td>45919049</td>\n      <td>46289333</td>\n      <td>35</td>\n      <td>0.0</td>\n      <td>0</td>\n    </tr>\n    <tr>\n      <th>...</th>\n      <td>...</td>\n      <td>...</td>\n      <td>...</td>\n      <td>...</td>\n      <td>...</td>\n      <td>...</td>\n      <td>...</td>\n      <td>...</td>\n      <td>...</td>\n    </tr>\n    <tr>\n      <th>10815</th>\n      <td>2021-04-21</td>\n      <td>RO</td>\n      <td>207030</td>\n      <td>4939</td>\n      <td>1777225</td>\n      <td>1796460</td>\n      <td>11</td>\n      <td>11524.0</td>\n      <td>0</td>\n    </tr>\n    <tr>\n      <th>10816</th>\n      <td>2021-04-21</td>\n      <td>RS</td>\n      <td>934970</td>\n      <td>23690</td>\n      <td>11377239</td>\n      <td>11422973</td>\n      <td>43</td>\n      <td>8185.0</td>\n      <td>0</td>\n    </tr>\n    <tr>\n      <th>10817</th>\n      <td>2021-04-21</td>\n      <td>SC</td>\n      <td>863842</td>\n      <td>12842</td>\n      <td>7164788</td>\n      <td>7252502</td>\n      <td>42</td>\n      <td>11911.0</td>\n      <td>0</td>\n    </tr>\n    <tr>\n      <th>10818</th>\n      <td>2021-04-21</td>\n      <td>SE</td>\n      <td>193271</td>\n      <td>4034</td>\n      <td>2298696</td>\n      <td>2318822</td>\n      <td>28</td>\n      <td>8335.0</td>\n      <td>0</td>\n    </tr>\n    <tr>\n      <th>10819</th>\n      <td>2021-04-21</td>\n      <td>SP</td>\n      <td>2786483</td>\n      <td>90627</td>\n      <td>45919049</td>\n      <td>46289333</td>\n      <td>35</td>\n      <td>6020.0</td>\n      <td>0</td>\n    </tr>\n  </tbody>\n</table>\n<p>10820 rows × 9 columns</p>\n</div>"
                    },
                    "metadata": {}
                }
            ],
            "execution_count": 4
        },
        {
            "cell_type": "code",
            "source": [
                "df.to_parquet('df.parquet.snappy',compression='snappy')\r\n",
                "pd.read_parquet('df.parquet.snappy')"
            ],
            "metadata": {
                "azdata_cell_guid": "f7b65be3-a277-4377-968a-e96e882dd5ed"
            },
            "outputs": [
                {
                    "output_type": "execute_result",
                    "execution_count": 5,
                    "data": {
                        "text/plain": "            date state  confirmed  deaths  estimated_population_2019  \\\n0     2020-02-25    SP          1       0                   45919049   \n1     2020-02-26    SP          1       0                   45919049   \n2     2020-02-27    SP          1       0                   45919049   \n3     2020-02-28    SP          2       0                   45919049   \n4     2020-02-29    SP          2       0                   45919049   \n...          ...   ...        ...     ...                        ...   \n10815 2021-04-21    RO     207030    4939                    1777225   \n10816 2021-04-21    RS     934970   23690                   11377239   \n10817 2021-04-21    SC     863842   12842                    7164788   \n10818 2021-04-21    SE     193271    4034                    2298696   \n10819 2021-04-21    SP    2786483   90627                   45919049   \n\n       estimated_population  city_ibge_code  confirmed_per_100k_inhabitants  \\\n0                  46289333              35                             0.0   \n1                  46289333              35                             0.0   \n2                  46289333              35                             0.0   \n3                  46289333              35                             0.0   \n4                  46289333              35                             0.0   \n...                     ...             ...                             ...   \n10815               1796460              11                         11524.0   \n10816              11422973              43                          8185.0   \n10817               7252502              42                         11911.0   \n10818               2318822              28                          8335.0   \n10819              46289333              35                          6020.0   \n\n       death_rate  \n0               0  \n1               0  \n2               0  \n3               0  \n4               0  \n...           ...  \n10815           0  \n10816           0  \n10817           0  \n10818           0  \n10819           0  \n\n[10820 rows x 9 columns]",
                        "text/html": "<div>\n<style scoped>\n    .dataframe tbody tr th:only-of-type {\n        vertical-align: middle;\n    }\n\n    .dataframe tbody tr th {\n        vertical-align: top;\n    }\n\n    .dataframe thead th {\n        text-align: right;\n    }\n</style>\n<table border=\"1\" class=\"dataframe\">\n  <thead>\n    <tr style=\"text-align: right;\">\n      <th></th>\n      <th>date</th>\n      <th>state</th>\n      <th>confirmed</th>\n      <th>deaths</th>\n      <th>estimated_population_2019</th>\n      <th>estimated_population</th>\n      <th>city_ibge_code</th>\n      <th>confirmed_per_100k_inhabitants</th>\n      <th>death_rate</th>\n    </tr>\n  </thead>\n  <tbody>\n    <tr>\n      <th>0</th>\n      <td>2020-02-25</td>\n      <td>SP</td>\n      <td>1</td>\n      <td>0</td>\n      <td>45919049</td>\n      <td>46289333</td>\n      <td>35</td>\n      <td>0.0</td>\n      <td>0</td>\n    </tr>\n    <tr>\n      <th>1</th>\n      <td>2020-02-26</td>\n      <td>SP</td>\n      <td>1</td>\n      <td>0</td>\n      <td>45919049</td>\n      <td>46289333</td>\n      <td>35</td>\n      <td>0.0</td>\n      <td>0</td>\n    </tr>\n    <tr>\n      <th>2</th>\n      <td>2020-02-27</td>\n      <td>SP</td>\n      <td>1</td>\n      <td>0</td>\n      <td>45919049</td>\n      <td>46289333</td>\n      <td>35</td>\n      <td>0.0</td>\n      <td>0</td>\n    </tr>\n    <tr>\n      <th>3</th>\n      <td>2020-02-28</td>\n      <td>SP</td>\n      <td>2</td>\n      <td>0</td>\n      <td>45919049</td>\n      <td>46289333</td>\n      <td>35</td>\n      <td>0.0</td>\n      <td>0</td>\n    </tr>\n    <tr>\n      <th>4</th>\n      <td>2020-02-29</td>\n      <td>SP</td>\n      <td>2</td>\n      <td>0</td>\n      <td>45919049</td>\n      <td>46289333</td>\n      <td>35</td>\n      <td>0.0</td>\n      <td>0</td>\n    </tr>\n    <tr>\n      <th>...</th>\n      <td>...</td>\n      <td>...</td>\n      <td>...</td>\n      <td>...</td>\n      <td>...</td>\n      <td>...</td>\n      <td>...</td>\n      <td>...</td>\n      <td>...</td>\n    </tr>\n    <tr>\n      <th>10815</th>\n      <td>2021-04-21</td>\n      <td>RO</td>\n      <td>207030</td>\n      <td>4939</td>\n      <td>1777225</td>\n      <td>1796460</td>\n      <td>11</td>\n      <td>11524.0</td>\n      <td>0</td>\n    </tr>\n    <tr>\n      <th>10816</th>\n      <td>2021-04-21</td>\n      <td>RS</td>\n      <td>934970</td>\n      <td>23690</td>\n      <td>11377239</td>\n      <td>11422973</td>\n      <td>43</td>\n      <td>8185.0</td>\n      <td>0</td>\n    </tr>\n    <tr>\n      <th>10817</th>\n      <td>2021-04-21</td>\n      <td>SC</td>\n      <td>863842</td>\n      <td>12842</td>\n      <td>7164788</td>\n      <td>7252502</td>\n      <td>42</td>\n      <td>11911.0</td>\n      <td>0</td>\n    </tr>\n    <tr>\n      <th>10818</th>\n      <td>2021-04-21</td>\n      <td>SE</td>\n      <td>193271</td>\n      <td>4034</td>\n      <td>2298696</td>\n      <td>2318822</td>\n      <td>28</td>\n      <td>8335.0</td>\n      <td>0</td>\n    </tr>\n    <tr>\n      <th>10819</th>\n      <td>2021-04-21</td>\n      <td>SP</td>\n      <td>2786483</td>\n      <td>90627</td>\n      <td>45919049</td>\n      <td>46289333</td>\n      <td>35</td>\n      <td>6020.0</td>\n      <td>0</td>\n    </tr>\n  </tbody>\n</table>\n<p>10820 rows × 9 columns</p>\n</div>"
                    },
                    "metadata": {}
                }
            ],
            "execution_count": 5
        },
        {
            "cell_type": "code",
            "source": [
                "table = pa.Table.from_pandas(df)"
            ],
            "metadata": {
                "azdata_cell_guid": "765f42a6-feaa-4f8f-b41f-e44f0770103b"
            },
            "outputs": [],
            "execution_count": 6
        },
        {
            "cell_type": "code",
            "source": [
                "pq.write_to_dataset(table, root_path='C:/Users/tiago/Desktop/'+str(ref_data))"
            ],
            "metadata": {
                "azdata_cell_guid": "543eb519-7fde-4d6a-84cc-15aaa5759ec2",
                "tags": []
            },
            "outputs": [],
            "execution_count": 7
        }
    ]
}